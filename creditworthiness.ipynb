{
 "cells": [
  {
   "cell_type": "markdown",
   "id": "0f51341b-ce48-4ce7-89cb-8b9c419ac60b",
   "metadata": {},
   "source": [
    "# Кредитоспособность"
   ]
  },
  {
   "cell_type": "markdown",
   "id": "587c89f7-d3a1-408f-80ed-6c24f09a2088",
   "metadata": {},
   "source": [
    "Определим влияет ли семейное положение и количество детей клиента на факт погашения кредита в срок.\n",
    "\n",
    "Рельтаты будут использованы для построения модели кредитного скоринга."
   ]
  },
  {
   "cell_type": "markdown",
   "id": "0026c1fb-cfdd-44c0-8fa9-e11e928ab84c",
   "metadata": {},
   "source": [
    "## 1. Обзор данных\n",
    "\n",
    "Составим первое представление о данных."
   ]
  },
  {
   "cell_type": "markdown",
   "id": "cf0f9502-d9a1-4484-8b5b-8c95ce040430",
   "metadata": {},
   "source": [
    "Импортируем библиотеки:"
   ]
  },
  {
   "cell_type": "code",
   "execution_count": 1,
   "id": "4f81ea5b-7762-41fa-90e3-56758ad7465a",
   "metadata": {},
   "outputs": [],
   "source": [
    "import pandas as pd\n",
    "import numpy as np\n",
    "import matplotlib.pyplot as plt\n",
    "import matplotlib"
   ]
  },
  {
   "cell_type": "markdown",
   "id": "fc04bdab-a275-45cc-a68a-b2863da42c4b",
   "metadata": {},
   "source": [
    "Считываем исходный файл с данными `creditworthiness.csv`:"
   ]
  },
  {
   "cell_type": "code",
   "execution_count": 2,
   "id": "dc6886d9-7c99-4f33-a125-a66155476fd1",
   "metadata": {},
   "outputs": [],
   "source": [
    "df = pd.read_csv('./datasets/creditworthiness.csv')"
   ]
  },
  {
   "cell_type": "markdown",
   "id": "5470e7b6-365a-4495-b6b3-596f086dffca",
   "metadata": {},
   "source": [
    "Выводим первые 7 строк:"
   ]
  },
  {
   "cell_type": "code",
   "execution_count": 3,
   "id": "3ec7fa5b-ba21-4109-98ad-bca308d873ff",
   "metadata": {},
   "outputs": [
    {
     "data": {
      "text/html": [
       "<div>\n",
       "<style scoped>\n",
       "    .dataframe tbody tr th:only-of-type {\n",
       "        vertical-align: middle;\n",
       "    }\n",
       "\n",
       "    .dataframe tbody tr th {\n",
       "        vertical-align: top;\n",
       "    }\n",
       "\n",
       "    .dataframe thead th {\n",
       "        text-align: right;\n",
       "    }\n",
       "</style>\n",
       "<table border=\"1\" class=\"dataframe\">\n",
       "  <thead>\n",
       "    <tr style=\"text-align: right;\">\n",
       "      <th></th>\n",
       "      <th>children</th>\n",
       "      <th>days_employed</th>\n",
       "      <th>dob_years</th>\n",
       "      <th>education</th>\n",
       "      <th>education_id</th>\n",
       "      <th>family_status</th>\n",
       "      <th>family_status_id</th>\n",
       "      <th>gender</th>\n",
       "      <th>income_type</th>\n",
       "      <th>debt</th>\n",
       "      <th>total_income</th>\n",
       "      <th>purpose</th>\n",
       "    </tr>\n",
       "  </thead>\n",
       "  <tbody>\n",
       "    <tr>\n",
       "      <th>0</th>\n",
       "      <td>1</td>\n",
       "      <td>-8437.673028</td>\n",
       "      <td>42</td>\n",
       "      <td>высшее</td>\n",
       "      <td>0</td>\n",
       "      <td>женат / замужем</td>\n",
       "      <td>0</td>\n",
       "      <td>F</td>\n",
       "      <td>сотрудник</td>\n",
       "      <td>0</td>\n",
       "      <td>253875.639453</td>\n",
       "      <td>покупка жилья</td>\n",
       "    </tr>\n",
       "    <tr>\n",
       "      <th>1</th>\n",
       "      <td>1</td>\n",
       "      <td>-4024.803754</td>\n",
       "      <td>36</td>\n",
       "      <td>среднее</td>\n",
       "      <td>1</td>\n",
       "      <td>женат / замужем</td>\n",
       "      <td>0</td>\n",
       "      <td>F</td>\n",
       "      <td>сотрудник</td>\n",
       "      <td>0</td>\n",
       "      <td>112080.014102</td>\n",
       "      <td>приобретение автомобиля</td>\n",
       "    </tr>\n",
       "    <tr>\n",
       "      <th>2</th>\n",
       "      <td>0</td>\n",
       "      <td>-5623.422610</td>\n",
       "      <td>33</td>\n",
       "      <td>Среднее</td>\n",
       "      <td>1</td>\n",
       "      <td>женат / замужем</td>\n",
       "      <td>0</td>\n",
       "      <td>M</td>\n",
       "      <td>сотрудник</td>\n",
       "      <td>0</td>\n",
       "      <td>145885.952297</td>\n",
       "      <td>покупка жилья</td>\n",
       "    </tr>\n",
       "    <tr>\n",
       "      <th>3</th>\n",
       "      <td>3</td>\n",
       "      <td>-4124.747207</td>\n",
       "      <td>32</td>\n",
       "      <td>среднее</td>\n",
       "      <td>1</td>\n",
       "      <td>женат / замужем</td>\n",
       "      <td>0</td>\n",
       "      <td>M</td>\n",
       "      <td>сотрудник</td>\n",
       "      <td>0</td>\n",
       "      <td>267628.550329</td>\n",
       "      <td>дополнительное образование</td>\n",
       "    </tr>\n",
       "    <tr>\n",
       "      <th>4</th>\n",
       "      <td>0</td>\n",
       "      <td>340266.072047</td>\n",
       "      <td>53</td>\n",
       "      <td>среднее</td>\n",
       "      <td>1</td>\n",
       "      <td>гражданский брак</td>\n",
       "      <td>1</td>\n",
       "      <td>F</td>\n",
       "      <td>пенсионер</td>\n",
       "      <td>0</td>\n",
       "      <td>158616.077870</td>\n",
       "      <td>сыграть свадьбу</td>\n",
       "    </tr>\n",
       "    <tr>\n",
       "      <th>5</th>\n",
       "      <td>0</td>\n",
       "      <td>-926.185831</td>\n",
       "      <td>27</td>\n",
       "      <td>высшее</td>\n",
       "      <td>0</td>\n",
       "      <td>гражданский брак</td>\n",
       "      <td>1</td>\n",
       "      <td>M</td>\n",
       "      <td>компаньон</td>\n",
       "      <td>0</td>\n",
       "      <td>255763.565419</td>\n",
       "      <td>покупка жилья</td>\n",
       "    </tr>\n",
       "    <tr>\n",
       "      <th>6</th>\n",
       "      <td>0</td>\n",
       "      <td>-2879.202052</td>\n",
       "      <td>43</td>\n",
       "      <td>высшее</td>\n",
       "      <td>0</td>\n",
       "      <td>женат / замужем</td>\n",
       "      <td>0</td>\n",
       "      <td>F</td>\n",
       "      <td>компаньон</td>\n",
       "      <td>0</td>\n",
       "      <td>240525.971920</td>\n",
       "      <td>операции с жильем</td>\n",
       "    </tr>\n",
       "  </tbody>\n",
       "</table>\n",
       "</div>"
      ],
      "text/plain": [
       "   children  days_employed  dob_years education  education_id  \\\n",
       "0         1   -8437.673028         42    высшее             0   \n",
       "1         1   -4024.803754         36   среднее             1   \n",
       "2         0   -5623.422610         33   Среднее             1   \n",
       "3         3   -4124.747207         32   среднее             1   \n",
       "4         0  340266.072047         53   среднее             1   \n",
       "5         0    -926.185831         27    высшее             0   \n",
       "6         0   -2879.202052         43    высшее             0   \n",
       "\n",
       "      family_status  family_status_id gender income_type  debt   total_income  \\\n",
       "0   женат / замужем                 0      F   сотрудник     0  253875.639453   \n",
       "1   женат / замужем                 0      F   сотрудник     0  112080.014102   \n",
       "2   женат / замужем                 0      M   сотрудник     0  145885.952297   \n",
       "3   женат / замужем                 0      M   сотрудник     0  267628.550329   \n",
       "4  гражданский брак                 1      F   пенсионер     0  158616.077870   \n",
       "5  гражданский брак                 1      M   компаньон     0  255763.565419   \n",
       "6   женат / замужем                 0      F   компаньон     0  240525.971920   \n",
       "\n",
       "                      purpose  \n",
       "0               покупка жилья  \n",
       "1     приобретение автомобиля  \n",
       "2               покупка жилья  \n",
       "3  дополнительное образование  \n",
       "4             сыграть свадьбу  \n",
       "5               покупка жилья  \n",
       "6           операции с жильем  "
      ]
     },
     "execution_count": 3,
     "metadata": {},
     "output_type": "execute_result"
    }
   ],
   "source": [
    "df.head(7)"
   ]
  },
  {
   "cell_type": "markdown",
   "id": "787ed64f-3ce9-47c5-884a-7f4036cc9a1e",
   "metadata": {},
   "source": [
    "Выведим общую информацию о структуре данных:"
   ]
  },
  {
   "cell_type": "code",
   "execution_count": 4,
   "id": "6269e3e3-7d07-46e0-9b9c-750651514b37",
   "metadata": {},
   "outputs": [
    {
     "name": "stdout",
     "output_type": "stream",
     "text": [
      "<class 'pandas.core.frame.DataFrame'>\n",
      "RangeIndex: 21525 entries, 0 to 21524\n",
      "Data columns (total 12 columns):\n",
      " #   Column            Non-Null Count  Dtype  \n",
      "---  ------            --------------  -----  \n",
      " 0   children          21525 non-null  int64  \n",
      " 1   days_employed     19351 non-null  float64\n",
      " 2   dob_years         21525 non-null  int64  \n",
      " 3   education         21525 non-null  object \n",
      " 4   education_id      21525 non-null  int64  \n",
      " 5   family_status     21525 non-null  object \n",
      " 6   family_status_id  21525 non-null  int64  \n",
      " 7   gender            21525 non-null  object \n",
      " 8   income_type       21525 non-null  object \n",
      " 9   debt              21525 non-null  int64  \n",
      " 10  total_income      19351 non-null  float64\n",
      " 11  purpose           21525 non-null  object \n",
      "dtypes: float64(2), int64(5), object(5)\n",
      "memory usage: 2.0+ MB\n"
     ]
    }
   ],
   "source": [
    "df.info()"
   ]
  },
  {
   "cell_type": "markdown",
   "id": "2ecf20d7-7cd8-43e8-a325-9ce35a584c3f",
   "metadata": {},
   "source": [
    "Размерность таблицы 21525×12.\n",
    "\n",
    "Согласно документации к данным:\n",
    "\n",
    "   - `children` - количество детей в семье\n",
    "   - `days_elployed` - общий трудовой стаж в днях\n",
    "   - `dob_years` - возраст клиента в годах\n",
    "   - `education` - уровень образования клиента\n",
    "   - `family_status` - семейное положение\n",
    "   - `family_status_id` - код семейного пложения\n",
    "   - `gender` - пол клиента\n",
    "   - `income_type` - тип занятости; должность\n",
    "   - `debt` - наличие долговых обязательств\n",
    "   - `total_income` - ежемесячный доход\n",
    "   - `purpose` - цель получения кредита\n",
    "\n",
    "\n",
    "**Обобщение**\n",
    "\n",
    "Каждая строка - это данные о заёмщике.\n",
    "\n",
    "Количество данных почти во всех столбцах одинаково и максимально, исключая `days_employed` и `total_income`, в которых оно одинаково и меньше максимального. Можно предположить о пропусках в столбцах строк, которые описывают клиента, не имеющего опыта работы и, как следствие, ежемесячного заработка.\n",
    "\n",
    "Для дальнейших исследований необходимо устранить проблемы в данных."
   ]
  },
  {
   "cell_type": "markdown",
   "id": "4c275fa4-cb0f-4ca9-96db-28a7606825f5",
   "metadata": {},
   "source": [
    "## 2. Предобработка данных"
   ]
  },
  {
   "cell_type": "markdown",
   "id": "3a31b33a-7167-412b-a0cf-83bb4934eb81",
   "metadata": {},
   "source": [
    "### 2.1. Поле `children`"
   ]
  },
  {
   "cell_type": "markdown",
   "id": "8a5d35e8-667d-4608-a5dc-d89df1b8febb",
   "metadata": {},
   "source": [
    "Проверим на наличие аномалий столбец `children`. Выведим все возможные значения этого столбца и посчитаем общее количество строк для каждого из них:"
   ]
  },
  {
   "cell_type": "code",
   "execution_count": 5,
   "id": "02deabd9-b019-4ed4-b5a9-78ece73721fa",
   "metadata": {},
   "outputs": [],
   "source": [
    "# fig, ax = plt.subplots()\n",
    "# ax.bar(df['children'].unique(), df['children'].value_counts())\n",
    "# ax.grid()\n",
    "# ax.set_xlabel('Количество детей')\n",
    "# ax.set_ylabel('Количество заёмщиков')\n",
    "# plt.xticks(np.arange(df['children'].min(), df['children'].max() + 1))\n",
    "# plt.show()"
   ]
  },
  {
   "cell_type": "code",
   "execution_count": 6,
   "id": "9f6c5bb4-26dd-4682-8c5e-075d430f4345",
   "metadata": {},
   "outputs": [
    {
     "data": {
      "text/plain": [
       " 0     14149\n",
       " 1      4818\n",
       " 2      2055\n",
       " 3       330\n",
       " 20       76\n",
       "-1        47\n",
       " 4        41\n",
       " 5         9\n",
       "Name: children, dtype: int64"
      ]
     },
     "execution_count": 6,
     "metadata": {},
     "output_type": "execute_result"
    }
   ],
   "source": [
    "df['children'].value_counts()"
   ]
  },
  {
   "cell_type": "markdown",
   "id": "8843b210-f50e-4298-a41f-a92c935eedbf",
   "metadata": {},
   "source": [
    "Обнаружено 2 аномальных значения:\n",
    "\n",
    "- **-1**. Очевидно, что такого количества детей быть не может, и учитывая малое количество таких значений, всего 47 штук, можно выдвинуть следующие предположения о природе их появления: опечатки при внесение данных, ошибка при составление выгрузки. При внимательном рассмотрение первых строк из выгрузки в пункте 1, можно заметить, что столбец `days_employed` так же содержит отрицательные значения. Предположим, что отрицательные значения вызваны ошибкой при составление выгрузки, и искомыми значениями являются эти же значения по абсолютной величине. Таким образом, изменим эти значения на значения второй по многочисленности группы, заёмщики с одним ребёнком. Количество этой группы возрастёт на *0.1%*. Такое приведение к многочисленной группе повлечёт незначительные изменения результатов исследований"
   ]
  },
  {
   "cell_type": "code",
   "execution_count": 7,
   "id": "c74927c7-451b-4bda-8247-e036956bc57c",
   "metadata": {},
   "outputs": [],
   "source": [
    "df['children'].replace(-1, 1, inplace=True)"
   ]
  },
  {
   "cell_type": "markdown",
   "id": "99084ae2-e106-476a-a5c7-73131e662c32",
   "metadata": {},
   "source": [
    "- **20**. Заёмщики с таким количество детей возможны, но стоит учесть совокупность фактов, ставящих под сомнение корректность этих полей: количество заёмщиков с 4 детьми почти в 2 раза меньше чем с 20, отсутствуют заёмщики с количеством детей от 6 до 19. Предположения о природе появления данных значений аналогичны прошлому пункту, однако возможно, что *среди них присутствуют корректные, которые были много кратно продублированы*. После приведения всех \"текстовых\" полей к нижнему регистру, в блоке `2.. Устранение дубликатов` необходимо провести проверку гипотезы."
   ]
  },
  {
   "cell_type": "markdown",
   "id": "9ee66807-b374-43ef-a394-e205dc41655a",
   "metadata": {},
   "source": [
    "Выполним проверку изменений в данных:"
   ]
  },
  {
   "cell_type": "code",
   "execution_count": 8,
   "id": "bbf7ee6e-9db9-49b5-94d2-9adaafb8e332",
   "metadata": {},
   "outputs": [
    {
     "data": {
      "text/plain": [
       "0     14149\n",
       "1      4865\n",
       "2      2055\n",
       "3       330\n",
       "20       76\n",
       "4        41\n",
       "5         9\n",
       "Name: children, dtype: int64"
      ]
     },
     "execution_count": 8,
     "metadata": {},
     "output_type": "execute_result"
    }
   ],
   "source": [
    "df['children'].value_counts()"
   ]
  },
  {
   "cell_type": "markdown",
   "id": "aa83b8da-2fc8-4a9d-9eaa-2bb8925df338",
   "metadata": {},
   "source": [
    "**Выводы:** обнаружены малочисленные аномальыне значения `-1` и `20`. Общими причинами появления данных аномалий могут быть опечатки при внесение данных и ошибки при составление выгрузки: для '-1' - искажение значений, для '20' - дублирование одной или нескольких корректных строк. Исходя из перечисленных причин принят следующий ряд решений:\n",
    "\n",
    "- значения `-1` замененили на многочисленное `1`, так как значение `-1` в общем случае не является корректным для количества детей, и приведение к многочисленной группе повлечёт незначительные изменения результатов исследований (прирост количества заёмщиков в группе с 1 ребйнком после приведения составил *0.9%*),\n",
    "\n",
    "- значение `20` в общем случае является возможным для данного поля, поэтому необходимо проверить гипотезу о дублирование одной или нескольких строк с таким значением. Гипотеза будет проверена в блоке `2.. Устранение дубликатов`, так как необходимо привести все \"текстовые\" столбци к нижнему регистру, чтобы обнаружить все дубликаты. При подтверждение гипотезы после выше упомянутого блока все дубликаты будут удалены, иначе значения будут преведены к `0` по причинам изложенным в прошлом пункте.\n",
    "\n",
    "\n",
    "При принятие решения о изменение аномальных значений на самыое многочисленное были приняты во внимания все задачи данного исследования - столбец `children` необходим для решения *только одной* задачи."
   ]
  },
  {
   "cell_type": "markdown",
   "id": "b83a1df5-9684-4357-b725-fb3fe555cae7",
   "metadata": {},
   "source": [
    "### 2.2. Поле `days_employed`"
   ]
  },
  {
   "cell_type": "markdown",
   "id": "cb15af32-abd1-477c-90ed-a5a2ed002487",
   "metadata": {},
   "source": [
    "#### 2.2.1. Обработка аномальных значений\n",
    "\n",
    "При подробном рассмотрение частичного представленния данных в пункте 1, можно заметить, что поле `days_employed` содержит отрицательные значения. Одними из причинами появления данных значений могут быть: ошибка ввода данных и ошибка создания выгрузки. Ознакомимся со строками, содержащими даннные значения:"
   ]
  },
  {
   "cell_type": "code",
   "execution_count": 9,
   "id": "ca40ce8a-baab-4735-b167-e73abea0ad67",
   "metadata": {},
   "outputs": [
    {
     "data": {
      "text/html": [
       "<div>\n",
       "<style scoped>\n",
       "    .dataframe tbody tr th:only-of-type {\n",
       "        vertical-align: middle;\n",
       "    }\n",
       "\n",
       "    .dataframe tbody tr th {\n",
       "        vertical-align: top;\n",
       "    }\n",
       "\n",
       "    .dataframe thead th {\n",
       "        text-align: right;\n",
       "    }\n",
       "</style>\n",
       "<table border=\"1\" class=\"dataframe\">\n",
       "  <thead>\n",
       "    <tr style=\"text-align: right;\">\n",
       "      <th></th>\n",
       "      <th>children</th>\n",
       "      <th>days_employed</th>\n",
       "      <th>dob_years</th>\n",
       "      <th>education</th>\n",
       "      <th>education_id</th>\n",
       "      <th>family_status</th>\n",
       "      <th>family_status_id</th>\n",
       "      <th>gender</th>\n",
       "      <th>income_type</th>\n",
       "      <th>debt</th>\n",
       "      <th>total_income</th>\n",
       "      <th>purpose</th>\n",
       "    </tr>\n",
       "  </thead>\n",
       "  <tbody>\n",
       "    <tr>\n",
       "      <th>0</th>\n",
       "      <td>1</td>\n",
       "      <td>-8437.673028</td>\n",
       "      <td>42</td>\n",
       "      <td>высшее</td>\n",
       "      <td>0</td>\n",
       "      <td>женат / замужем</td>\n",
       "      <td>0</td>\n",
       "      <td>F</td>\n",
       "      <td>сотрудник</td>\n",
       "      <td>0</td>\n",
       "      <td>253875.639453</td>\n",
       "      <td>покупка жилья</td>\n",
       "    </tr>\n",
       "    <tr>\n",
       "      <th>1</th>\n",
       "      <td>1</td>\n",
       "      <td>-4024.803754</td>\n",
       "      <td>36</td>\n",
       "      <td>среднее</td>\n",
       "      <td>1</td>\n",
       "      <td>женат / замужем</td>\n",
       "      <td>0</td>\n",
       "      <td>F</td>\n",
       "      <td>сотрудник</td>\n",
       "      <td>0</td>\n",
       "      <td>112080.014102</td>\n",
       "      <td>приобретение автомобиля</td>\n",
       "    </tr>\n",
       "    <tr>\n",
       "      <th>2</th>\n",
       "      <td>0</td>\n",
       "      <td>-5623.422610</td>\n",
       "      <td>33</td>\n",
       "      <td>Среднее</td>\n",
       "      <td>1</td>\n",
       "      <td>женат / замужем</td>\n",
       "      <td>0</td>\n",
       "      <td>M</td>\n",
       "      <td>сотрудник</td>\n",
       "      <td>0</td>\n",
       "      <td>145885.952297</td>\n",
       "      <td>покупка жилья</td>\n",
       "    </tr>\n",
       "    <tr>\n",
       "      <th>3</th>\n",
       "      <td>3</td>\n",
       "      <td>-4124.747207</td>\n",
       "      <td>32</td>\n",
       "      <td>среднее</td>\n",
       "      <td>1</td>\n",
       "      <td>женат / замужем</td>\n",
       "      <td>0</td>\n",
       "      <td>M</td>\n",
       "      <td>сотрудник</td>\n",
       "      <td>0</td>\n",
       "      <td>267628.550329</td>\n",
       "      <td>дополнительное образование</td>\n",
       "    </tr>\n",
       "    <tr>\n",
       "      <th>5</th>\n",
       "      <td>0</td>\n",
       "      <td>-926.185831</td>\n",
       "      <td>27</td>\n",
       "      <td>высшее</td>\n",
       "      <td>0</td>\n",
       "      <td>гражданский брак</td>\n",
       "      <td>1</td>\n",
       "      <td>M</td>\n",
       "      <td>компаньон</td>\n",
       "      <td>0</td>\n",
       "      <td>255763.565419</td>\n",
       "      <td>покупка жилья</td>\n",
       "    </tr>\n",
       "  </tbody>\n",
       "</table>\n",
       "</div>"
      ],
      "text/plain": [
       "   children  days_employed  dob_years education  education_id  \\\n",
       "0         1   -8437.673028         42    высшее             0   \n",
       "1         1   -4024.803754         36   среднее             1   \n",
       "2         0   -5623.422610         33   Среднее             1   \n",
       "3         3   -4124.747207         32   среднее             1   \n",
       "5         0    -926.185831         27    высшее             0   \n",
       "\n",
       "      family_status  family_status_id gender income_type  debt   total_income  \\\n",
       "0   женат / замужем                 0      F   сотрудник     0  253875.639453   \n",
       "1   женат / замужем                 0      F   сотрудник     0  112080.014102   \n",
       "2   женат / замужем                 0      M   сотрудник     0  145885.952297   \n",
       "3   женат / замужем                 0      M   сотрудник     0  267628.550329   \n",
       "5  гражданский брак                 1      M   компаньон     0  255763.565419   \n",
       "\n",
       "                      purpose  \n",
       "0               покупка жилья  \n",
       "1     приобретение автомобиля  \n",
       "2               покупка жилья  \n",
       "3  дополнительное образование  \n",
       "5               покупка жилья  "
      ]
     },
     "execution_count": 9,
     "metadata": {},
     "output_type": "execute_result"
    }
   ],
   "source": [
    "df[df['days_employed'] < 0].head()"
   ]
  },
  {
   "cell_type": "code",
   "execution_count": 10,
   "id": "a4ef0c5e-cce3-4678-aaf1-fbae99a4a07b",
   "metadata": {},
   "outputs": [
    {
     "data": {
      "text/plain": [
       "count    15906.000000\n",
       "mean     -2353.015932\n",
       "std       2304.243851\n",
       "min     -18388.949901\n",
       "25%      -3157.480084\n",
       "50%      -1630.019381\n",
       "75%       -756.371964\n",
       "max        -24.141633\n",
       "Name: days_employed, dtype: float64"
      ]
     },
     "execution_count": 10,
     "metadata": {},
     "output_type": "execute_result"
    }
   ],
   "source": [
    "df.loc[df['days_employed'] < 0, 'days_employed'].describe()"
   ]
  },
  {
   "cell_type": "markdown",
   "id": "fbfb4859-437b-47ce-ae47-3ffebaccbfcd",
   "metadata": {},
   "source": [
    "Видно, что строки с отрицательными значениями в столбце `days_employed` составляют **74%** от общего количества строк и представляют большое разнообразие значений. Учитывая аналогичные проблемы со значениями в столбце `children`, но в меньшем количестве, и сходство значений с корректными, но с противоположным знаком. Предположим, что эти аномалии вызваны ошибкой создания выгрузки; представления искомых значений в противоположном по знаку виде. Приведём отрицательные значения к абсолютной величине."
   ]
  },
  {
   "cell_type": "code",
   "execution_count": 11,
   "id": "8bc528d4-8f84-4ac5-8ac4-18ae826632db",
   "metadata": {},
   "outputs": [],
   "source": [
    "df['days_employed'] = df['days_employed'].apply(abs)"
   ]
  },
  {
   "cell_type": "markdown",
   "id": "d8be0498-917b-468a-95d9-929ee667de76",
   "metadata": {},
   "source": [
    "Выполним проверку, выведя описательную статистику поля `days_employed`:"
   ]
  },
  {
   "cell_type": "code",
   "execution_count": 12,
   "id": "abc87d94-b949-4de6-9971-a65381f10926",
   "metadata": {},
   "outputs": [
    {
     "data": {
      "text/plain": [
       "count     19351.000000\n",
       "mean      66914.728907\n",
       "std      139030.880527\n",
       "min          24.141633\n",
       "25%         927.009265\n",
       "50%        2194.220567\n",
       "75%        5537.882441\n",
       "max      401755.400475\n",
       "Name: days_employed, dtype: float64"
      ]
     },
     "execution_count": 12,
     "metadata": {},
     "output_type": "execute_result"
    }
   ],
   "source": [
    "df['days_employed'].describe()"
   ]
  },
  {
   "cell_type": "markdown",
   "id": "106f91b7-610e-4b2c-9d7f-955064c660d2",
   "metadata": {},
   "source": [
    "Минимальное значение больше 0 - приведение прошло успешно."
   ]
  },
  {
   "cell_type": "markdown",
   "id": "2780db97-e4c1-4b65-a620-db395e34aef8",
   "metadata": {},
   "source": [
    "**Выводы:** обнаружено большое количество *74%* строк, содержащих отрицательные значения в столбце с заведомо неотрицательными данными. В этого факта и того, что все отрицательные значения очень разнообразны от -18389 до -24 и имеют неравномерное распределение, было выдвинуто предположение о том, что эти аномалии вызваны ошибкой составления выборки, которая проявилась. Ошибка привела к замене большей части значений столбца `days_employed` на им отрицательные. Таким образом, отрицательные значения были приведены к абсолютным величинам."
   ]
  },
  {
   "cell_type": "markdown",
   "id": "8210c90f-b30f-43fb-9779-36c8ecf6711b",
   "metadata": {},
   "source": [
    "#### 2.2.2. Обработка пропусков\n",
    "\n",
    "Из представления данных так же выдны пропуски данного поля, посчитаем их долю относительно всех значений:"
   ]
  },
  {
   "cell_type": "code",
   "execution_count": 1,
   "id": "a98dbff0-2799-4f36-aa10-55dd90381bd6",
   "metadata": {},
   "outputs": [
    {
     "ename": "NameError",
     "evalue": "name 'plt' is not defined",
     "output_type": "error",
     "traceback": [
      "\u001b[0;31m---------------------------------------------------------------------------\u001b[0m",
      "\u001b[0;31mNameError\u001b[0m                                 Traceback (most recent call last)",
      "Cell \u001b[0;32mIn[1], line 1\u001b[0m\n\u001b[0;32m----> 1\u001b[0m fig, ax \u001b[38;5;241m=\u001b[39m \u001b[43mplt\u001b[49m\u001b[38;5;241m.\u001b[39msubplots()\n\u001b[1;32m      3\u001b[0m \u001b[38;5;66;03m# Вычисляем долю пропусков.\u001b[39;00m\n\u001b[1;32m      4\u001b[0m na_fraction \u001b[38;5;241m=\u001b[39m df[\u001b[38;5;124m'\u001b[39m\u001b[38;5;124mdays_employed\u001b[39m\u001b[38;5;124m'\u001b[39m]\u001b[38;5;241m.\u001b[39misna()\u001b[38;5;241m.\u001b[39msum() \u001b[38;5;241m/\u001b[39m df\u001b[38;5;241m.\u001b[39mshape[\u001b[38;5;241m0\u001b[39m]\n",
      "\u001b[0;31mNameError\u001b[0m: name 'plt' is not defined"
     ]
    }
   ],
   "source": [
    "fig, ax = plt.subplots()\n",
    "\n",
    "# Вычисляем долю пропусков.\n",
    "na_fraction = df['days_employed'].isna().sum() / df.shape[0]\n",
    "\n",
    "# Вычисляем значения для задания диаграммы.\n",
    "values = [na_fraction, 1 - na_fraction]\n",
    "labels = ['NA', 'Corrected']\n",
    "colors = [plt.get_cmap('Purples')(0.55), plt.get_cmap('YlOrBr')(0.3)]\n",
    "\n",
    "ax.set_title('Доля пропусков поля \"days_employed\"')\n",
    "ax.pie(\n",
    "    values,\n",
    "    labels=labels,\n",
    "    autopct='%1.f%%',\n",
    "    colors=colors\n",
    ")\n",
    "\n",
    "\n",
    "plt.show()"
   ]
  },
  {
   "cell_type": "markdown",
   "id": "d11fb9fe-670e-477d-9263-a10031e2a203",
   "metadata": {},
   "source": [
    "Из графического представления видно, что пропуски составляют большую долю всех значений (*10%*). В данном случае причинами могут быть, например, ошибки ввода или создания выгрузки. Оба варианта подразумевают, что данные невозможно восстановить в первоначальном виде, однако удаление такого количества строк пагубно скажется на точности результатов исследований. Заполним пропуски медианными значениями поля `days_employed` для соответствующей группы вида деятельности заёмщика `income_type`. Такое решение позволит использовать данные поля `days_employed` для дальнейших исследований не нарушаю статистических значений, так как медиана сохраняет независимость от аномально больших или малых значений.\n",
    "\n",
    "Создадим функцию заполняющую пропуски в 'A' столбце медианными значениями групп, созданных по столбцу 'B':"
   ]
  },
  {
   "cell_type": "code",
   "execution_count": 14,
   "id": "0b53c604-7983-4d33-8c10-ad213cc658c3",
   "metadata": {},
   "outputs": [],
   "source": [
    "def fill_na_median_by_group(values: str,  group_by: str):\n",
    "    medians_by_groups = df.groupby(group_by)[values].agg('median').reset_index()\n",
    "    \n",
    "    for row_index in range(medians_by_groups.shape[0]):\n",
    "        df.loc[\n",
    "            (df[group_by] == medians_by_groups.loc[row_index, group_by]) & \\\n",
    "            df[values].isna(),\n",
    "            values\n",
    "        ] = medians_by_groups.loc[row_index, values]\n",
    "            "
   ]
  },
  {
   "cell_type": "markdown",
   "id": "68a6e827-7c87-4b88-8f7b-09e5d7d8bbe5",
   "metadata": {},
   "source": [
    "Заполним пропуски медианными значениями поля `days_employed` для соответствующей группы вида деятельности заёмщика `income_type` и выполним проверку количества пропусков в поле `days_employed`:"
   ]
  },
  {
   "cell_type": "code",
   "execution_count": 15,
   "id": "7dc8b8ae-d2c9-4d86-9890-e2f6e0ade916",
   "metadata": {},
   "outputs": [
    {
     "data": {
      "text/plain": [
       "0"
      ]
     },
     "execution_count": 15,
     "metadata": {},
     "output_type": "execute_result"
    }
   ],
   "source": [
    "fill_na_median_by_group('days_employed', 'income_type')\n",
    "\n",
    "# Выводим количество пропусков столбца 'days_employed'.\n",
    "df['days_employed'].isna().sum()"
   ]
  },
  {
   "cell_type": "markdown",
   "id": "8fe97ca2-f6cb-441b-9764-692eb7466b2b",
   "metadata": {},
   "source": [
    "**Выводы:** данные содержат большой процент строк с пропусками в поле `days_employed` *10%*. Предположительная природа пропусков - это ошибка создания выгрузки. Так как удаление такого процента данных преведёт к искажению результатов исследований, было принято решение о заполнение пропусков медианными значениями, полученными по группе соответствующего типа дохода заёмщика `income_type`. Такаи образом, заполненные значения не будут иметь негативного влияния на исследования связанные с данным столбцом, так как медиана является значением невосприимчивым к аномальным значениям, а сохранившиеся значения остальных полей поспособствуют увеличению точности исследования в целом."
   ]
  },
  {
   "cell_type": "markdown",
   "id": "c7367f9b-d6c5-4ade-8f70-64f1981f0a68",
   "metadata": {},
   "source": [
    "#### 2.2.3. Распределение медианы по типу доходов"
   ]
  },
  {
   "cell_type": "markdown",
   "id": "82ec507b-7204-4557-9050-b04381f97655",
   "metadata": {},
   "source": [
    "Для каждого типа занятости `income_type` выведим медианное значение общего стажа `days_employed`:"
   ]
  },
  {
   "cell_type": "code",
   "execution_count": 35,
   "id": "67185da0-950b-4658-b1b3-ab8fca8d1e76",
   "metadata": {},
   "outputs": [
    {
     "data": {
      "text/plain": [
       "income_type\n",
       "безработный        366413.652744\n",
       "в декрете            3296.759962\n",
       "госслужащий          2689.368353\n",
       "компаньон            1547.382223\n",
       "пенсионер          365213.306266\n",
       "предприниматель       520.848083\n",
       "сотрудник            1574.202821\n",
       "студент               578.751554\n",
       "Name: days_employed, dtype: float64"
      ]
     },
     "execution_count": 35,
     "metadata": {},
     "output_type": "execute_result"
    }
   ],
   "source": [
    "df.groupby('income_type')['days_employed'].agg('median')"
   ]
  },
  {
   "cell_type": "markdown",
   "id": "c778b5f1-1b02-4a1e-a8e6-d2d2dc8bc06b",
   "metadata": {},
   "source": [
    "*Выводы:* у двух типов(пенсионеров и безработных) общий рабочий стаж значительно больше любого типа. Так как данный столбец `days_employed` не понодобится для дальнейших исследований, оставим эти данные в таком виде."
   ]
  },
  {
   "cell_type": "markdown",
   "id": "a7cf71b2-2941-4e2d-8cce-9fb878c15dd0",
   "metadata": {},
   "source": [
    "### <font color='blackgreen'>Комментарий</font>\n",
    "\n",
    "<font color='blackgreen'>Важно ссоблюдать последовательность обработки столбцов. В противном случае, исследование начинает \"скакать\" и тебе самому будет не понятно, какие столбцы были отработаны, а какие нет.</font>\n",
    "\n",
    "<font color='blackgreen'>Необходимо отработать каждое отклонение по отдельности и сформировать предположения, по каким причине могли возникнуть подобные отклонения. После формирования предположение, можно будет принимать обоснованное решение, как обрабатывать отклонения.</font>\n",
    "\n",
    "<font color='red'>Обрати внимание, что по этим столбцам, у тебя отсутсвтуют выводы. По-хорошему, у тебя должны быть выводы по итогам анализа каждого столбца.</font>"
   ]
  },
  {
   "cell_type": "markdown",
   "id": "36bf9318-98d1-43bf-a014-3802e9eb0108",
   "metadata": {},
   "source": [
    "### 2.2. Устарение пропусков"
   ]
  },
  {
   "cell_type": "markdown",
   "id": "ec80cb31-b8ca-47fe-b955-8e492d271bcd",
   "metadata": {},
   "source": [
    "Пропущенные значения в столбцах `days_employed` и `total_income` заполним медианами доходов для соответствующих типа занятости `income_type`:"
   ]
  },
  {
   "cell_type": "markdown",
   "id": "4af751f7-fa66-4e1c-b87b-1212b1c478d2",
   "metadata": {},
   "source": [
    "<font color='red'>В этом разделе, так не понятно как ты пришёл к этим выводам, по заполнению пропусков медианным значением. Так же требуется обоснование, почему используется именно медианное значение.</font>\n",
    "\n",
    "<font color='red'>Важно контролировать проводимые преобразования, что было <b>до</b> изменений и что получилось после внесения изменений. В данном примере ты контролируем только итог преобразования, а что было ДО у тебя отсутствует. Так же отсутстсвуют выводы, которые касаются результата внесения изменений.</font>"
   ]
  },
  {
   "cell_type": "code",
   "execution_count": 36,
   "id": "7a511be7-02b5-4844-97f7-6fc4589a968a",
   "metadata": {},
   "outputs": [],
   "source": [
    "for income_type in df['income_type'].unique():\n",
    "    # Восполняем данные в поля `days_employed`\n",
    "    df.loc[(df['income_type'] == income_type) & df['days_employed'].isna(), 'days_employed'] = \\\n",
    "    df.loc[(df['income_type'] == income_type), 'days_employed'].median()\n",
    "\n",
    "    # Восполняем данные в поля `total_income`\n",
    "    df.loc[(df['income_type'] == income_type) & (df['total_income'].isna()), 'total_income'] = \\\n",
    "    df.loc[(df['income_type'] == income_type), 'total_income'].median()"
   ]
  },
  {
   "cell_type": "markdown",
   "id": "e29bff53-26fc-4662-af9d-2b314b525705",
   "metadata": {},
   "source": [
    "Выполним проверку:"
   ]
  },
  {
   "cell_type": "code",
   "execution_count": 37,
   "id": "8427fb33-8467-4c5a-b236-f96f296dba3c",
   "metadata": {},
   "outputs": [
    {
     "data": {
      "text/plain": [
       "children            0\n",
       "days_employed       0\n",
       "dob_years           0\n",
       "education           0\n",
       "education_id        0\n",
       "family_status       0\n",
       "family_status_id    0\n",
       "gender              0\n",
       "income_type         0\n",
       "debt                0\n",
       "total_income        0\n",
       "purpose             0\n",
       "dtype: int64"
      ]
     },
     "execution_count": 37,
     "metadata": {},
     "output_type": "execute_result"
    }
   ],
   "source": [
    "df.isna().sum()"
   ]
  },
  {
   "cell_type": "markdown",
   "id": "281c4006-b95d-4edd-9763-d93cf64f1026",
   "metadata": {},
   "source": [
    "### 2.3. Изменение типов данных"
   ]
  },
  {
   "cell_type": "markdown",
   "id": "ada95d64-591a-47bd-ad9f-73ccc51d785c",
   "metadata": {},
   "source": [
    "Для поставленных задач нет необходимости в высокой точности ежемесячного дохода `total_income`, поэтому приведём данное поле к целочисленному типу:"
   ]
  },
  {
   "cell_type": "markdown",
   "id": "71c9c2fe-124a-44ee-b632-3767428a3f57",
   "metadata": {},
   "source": [
    "<font color='red'>Не понятное обоснование, скорее похоже на констатацию факта, а не обоснованное принятие решение.</font>"
   ]
  },
  {
   "cell_type": "code",
   "execution_count": 38,
   "id": "3ce644ae-6c94-472e-92bf-9a4719c1a6f8",
   "metadata": {},
   "outputs": [],
   "source": [
    "df['total_income'] = df['total_income'].astype(int)"
   ]
  },
  {
   "cell_type": "markdown",
   "id": "4025b34c-220c-4554-9e5e-35cbc64afe6f",
   "metadata": {},
   "source": [
    "### 2.4. Обработка дубликатов"
   ]
  },
  {
   "cell_type": "markdown",
   "id": "6975070b-a1ee-4abb-ba61-de6c70818ddf",
   "metadata": {},
   "source": [
    "Сперва приведём все данные столбцы `education` и `purpose` к нижнему регистру, чтобы привести все данные к однородности стиля. Это необходимо для поиска неявных дубликатов."
   ]
  },
  {
   "cell_type": "markdown",
   "id": "303c087f-6235-4716-9ddc-37078dd991c5",
   "metadata": {},
   "source": [
    "<font color='red'>Было бы не плохо проверить, может есть лишние пробелы/пропуски, их наличие так же негативным образом может повлиять на поиск неявных дубликатов.</font>"
   ]
  },
  {
   "cell_type": "code",
   "execution_count": 39,
   "id": "53fda99f-ed11-44f3-a64c-02114783dd87",
   "metadata": {},
   "outputs": [],
   "source": [
    "# Обраобтка столбца `education`\n",
    "df['education'] = df['education'].str.lower()\n",
    "\n",
    "# Обраобтка столбца `purpose`\n",
    "df['purpose'] = df['purpose'].str.lower()"
   ]
  },
  {
   "cell_type": "markdown",
   "id": "c8c2135a-035a-4b77-a973-04d225ed94bd",
   "metadata": {},
   "source": [
    "Определим количество явных дубликатов:"
   ]
  },
  {
   "cell_type": "code",
   "execution_count": 40,
   "id": "878411a4-c3c6-43ff-81ff-807a869d8394",
   "metadata": {},
   "outputs": [
    {
     "data": {
      "text/plain": [
       "71"
      ]
     },
     "execution_count": 40,
     "metadata": {},
     "output_type": "execute_result"
    }
   ],
   "source": [
    "df.duplicated().sum()"
   ]
  },
  {
   "cell_type": "markdown",
   "id": "e637d547-c34e-4d20-a08b-313414aef6ff",
   "metadata": {},
   "source": [
    "Удалим дублирующиеся строки и обновим сместившиюся индексацию:"
   ]
  },
  {
   "cell_type": "code",
   "execution_count": 41,
   "id": "7ac32914-9340-4de5-adad-f5cd1c64b3de",
   "metadata": {},
   "outputs": [],
   "source": [
    "df = df.drop_duplicates().reset_index(drop=True)"
   ]
  },
  {
   "cell_type": "markdown",
   "id": "ac38780c-a786-4c33-b2ae-ef612fa4a4e6",
   "metadata": {},
   "source": [
    "### 2.5. Категоризация данных"
   ]
  },
  {
   "cell_type": "markdown",
   "id": "c275daed-52c9-4ad3-a541-25f3cec73577",
   "metadata": {},
   "source": [
    "Для дальнейших исследований введём категории на ежемесячный доход `total_income`:\n",
    "\n",
    "- 0-30,000 - `'E'`;\n",
    "- 30,001-50,000 - `'D'`;\n",
    "- 50,001-200,000 - `'C'`;\n",
    "- 200,001-1,000,000 - `'B'`;\n",
    "- свыше 1,000,000 - `'A'`\n",
    "\n",
    "Создадим функцию определяющую категорию ежемесячного дохода по входному числу:"
   ]
  },
  {
   "cell_type": "code",
   "execution_count": 42,
   "id": "c5444d50-c816-49f9-a9cd-20d6adb86dab",
   "metadata": {},
   "outputs": [],
   "source": [
    "def categorize_income(income: int) -> str:\n",
    "    # Проверка входного значения.\n",
    "    if type(income) != int:\n",
    "        return None\n",
    "\n",
    "    if income < 30001:\n",
    "        return 'E'\n",
    "    elif income < 50001:\n",
    "        return 'D'\n",
    "    elif income < 200001:\n",
    "        return 'C'\n",
    "    elif income < 1000001:\n",
    "        return 'B'\n",
    "    else:\n",
    "        return 'A'"
   ]
  },
  {
   "cell_type": "markdown",
   "id": "2f0594fc-7108-4a39-8da7-84b14868aa15",
   "metadata": {},
   "source": [
    "Воспользуемся функцией и категоризируем все строки, добавив новый столбец `total_income_category`:"
   ]
  },
  {
   "cell_type": "code",
   "execution_count": 43,
   "id": "aa4aac98-9184-4f67-84a3-8e7b3d91fa59",
   "metadata": {},
   "outputs": [],
   "source": [
    "df['total_income_category'] = df['total_income'].apply(categorize_income)"
   ]
  },
  {
   "cell_type": "markdown",
   "id": "fa63aeb0-529a-4bc0-b959-bfd744559dcc",
   "metadata": {},
   "source": [
    "Выполним проверку:"
   ]
  },
  {
   "cell_type": "code",
   "execution_count": 44,
   "id": "25eaa521-496c-4d61-9430-fb23b327f7e6",
   "metadata": {},
   "outputs": [
    {
     "data": {
      "text/html": [
       "<div>\n",
       "<style scoped>\n",
       "    .dataframe tbody tr th:only-of-type {\n",
       "        vertical-align: middle;\n",
       "    }\n",
       "\n",
       "    .dataframe tbody tr th {\n",
       "        vertical-align: top;\n",
       "    }\n",
       "\n",
       "    .dataframe thead th {\n",
       "        text-align: right;\n",
       "    }\n",
       "</style>\n",
       "<table border=\"1\" class=\"dataframe\">\n",
       "  <thead>\n",
       "    <tr style=\"text-align: right;\">\n",
       "      <th></th>\n",
       "      <th>children</th>\n",
       "      <th>days_employed</th>\n",
       "      <th>dob_years</th>\n",
       "      <th>education</th>\n",
       "      <th>education_id</th>\n",
       "      <th>family_status</th>\n",
       "      <th>family_status_id</th>\n",
       "      <th>gender</th>\n",
       "      <th>income_type</th>\n",
       "      <th>debt</th>\n",
       "      <th>total_income</th>\n",
       "      <th>purpose</th>\n",
       "      <th>total_income_category</th>\n",
       "    </tr>\n",
       "  </thead>\n",
       "  <tbody>\n",
       "    <tr>\n",
       "      <th>0</th>\n",
       "      <td>1</td>\n",
       "      <td>8437.673028</td>\n",
       "      <td>42</td>\n",
       "      <td>высшее</td>\n",
       "      <td>0</td>\n",
       "      <td>женат / замужем</td>\n",
       "      <td>0</td>\n",
       "      <td>F</td>\n",
       "      <td>сотрудник</td>\n",
       "      <td>0</td>\n",
       "      <td>253875</td>\n",
       "      <td>покупка жилья</td>\n",
       "      <td>B</td>\n",
       "    </tr>\n",
       "    <tr>\n",
       "      <th>1</th>\n",
       "      <td>1</td>\n",
       "      <td>4024.803754</td>\n",
       "      <td>36</td>\n",
       "      <td>среднее</td>\n",
       "      <td>1</td>\n",
       "      <td>женат / замужем</td>\n",
       "      <td>0</td>\n",
       "      <td>F</td>\n",
       "      <td>сотрудник</td>\n",
       "      <td>0</td>\n",
       "      <td>112080</td>\n",
       "      <td>приобретение автомобиля</td>\n",
       "      <td>C</td>\n",
       "    </tr>\n",
       "    <tr>\n",
       "      <th>2</th>\n",
       "      <td>0</td>\n",
       "      <td>5623.422610</td>\n",
       "      <td>33</td>\n",
       "      <td>среднее</td>\n",
       "      <td>1</td>\n",
       "      <td>женат / замужем</td>\n",
       "      <td>0</td>\n",
       "      <td>M</td>\n",
       "      <td>сотрудник</td>\n",
       "      <td>0</td>\n",
       "      <td>145885</td>\n",
       "      <td>покупка жилья</td>\n",
       "      <td>C</td>\n",
       "    </tr>\n",
       "    <tr>\n",
       "      <th>3</th>\n",
       "      <td>3</td>\n",
       "      <td>4124.747207</td>\n",
       "      <td>32</td>\n",
       "      <td>среднее</td>\n",
       "      <td>1</td>\n",
       "      <td>женат / замужем</td>\n",
       "      <td>0</td>\n",
       "      <td>M</td>\n",
       "      <td>сотрудник</td>\n",
       "      <td>0</td>\n",
       "      <td>267628</td>\n",
       "      <td>дополнительное образование</td>\n",
       "      <td>B</td>\n",
       "    </tr>\n",
       "    <tr>\n",
       "      <th>4</th>\n",
       "      <td>0</td>\n",
       "      <td>340266.072047</td>\n",
       "      <td>53</td>\n",
       "      <td>среднее</td>\n",
       "      <td>1</td>\n",
       "      <td>гражданский брак</td>\n",
       "      <td>1</td>\n",
       "      <td>F</td>\n",
       "      <td>пенсионер</td>\n",
       "      <td>0</td>\n",
       "      <td>158616</td>\n",
       "      <td>сыграть свадьбу</td>\n",
       "      <td>C</td>\n",
       "    </tr>\n",
       "  </tbody>\n",
       "</table>\n",
       "</div>"
      ],
      "text/plain": [
       "   children  days_employed  dob_years education  education_id  \\\n",
       "0         1    8437.673028         42    высшее             0   \n",
       "1         1    4024.803754         36   среднее             1   \n",
       "2         0    5623.422610         33   среднее             1   \n",
       "3         3    4124.747207         32   среднее             1   \n",
       "4         0  340266.072047         53   среднее             1   \n",
       "\n",
       "      family_status  family_status_id gender income_type  debt  total_income  \\\n",
       "0   женат / замужем                 0      F   сотрудник     0        253875   \n",
       "1   женат / замужем                 0      F   сотрудник     0        112080   \n",
       "2   женат / замужем                 0      M   сотрудник     0        145885   \n",
       "3   женат / замужем                 0      M   сотрудник     0        267628   \n",
       "4  гражданский брак                 1      F   пенсионер     0        158616   \n",
       "\n",
       "                      purpose total_income_category  \n",
       "0               покупка жилья                     B  \n",
       "1     приобретение автомобиля                     C  \n",
       "2               покупка жилья                     C  \n",
       "3  дополнительное образование                     B  \n",
       "4             сыграть свадьбу                     C  "
      ]
     },
     "execution_count": 44,
     "metadata": {},
     "output_type": "execute_result"
    }
   ],
   "source": [
    "df.head()"
   ]
  },
  {
   "cell_type": "markdown",
   "id": "b512b6db-6ca4-483c-8aad-1841d84b6ef7",
   "metadata": {},
   "source": [
    "Теперь исследуем цели взятия кредита `purpose`:"
   ]
  },
  {
   "cell_type": "code",
   "execution_count": 45,
   "id": "2ac70b00-2130-403b-8ad0-981e8bbdeca6",
   "metadata": {},
   "outputs": [
    {
     "name": "stdout",
     "output_type": "stream",
     "text": [
      "автомобили\n",
      "автомобиль\n",
      "высшее образование\n",
      "дополнительное образование\n",
      "жилье\n",
      "заняться высшим образованием\n",
      "заняться образованием\n",
      "на покупку автомобиля\n",
      "на покупку подержанного автомобиля\n",
      "на покупку своего автомобиля\n",
      "на проведение свадьбы\n",
      "недвижимость\n",
      "образование\n",
      "операции с жильем\n",
      "операции с коммерческой недвижимостью\n",
      "операции с недвижимостью\n",
      "операции со своей недвижимостью\n",
      "покупка жилой недвижимости\n",
      "покупка жилья\n",
      "покупка жилья для сдачи\n",
      "покупка жилья для семьи\n",
      "покупка коммерческой недвижимости\n",
      "покупка недвижимости\n",
      "покупка своего жилья\n",
      "получение высшего образования\n",
      "получение дополнительного образования\n",
      "получение образования\n",
      "приобретение автомобиля\n",
      "профильное образование\n",
      "ремонт жилью\n",
      "свадьба\n",
      "свой автомобиль\n",
      "сделка с автомобилем\n",
      "сделка с подержанным автомобилем\n",
      "строительство жилой недвижимости\n",
      "строительство недвижимости\n",
      "строительство собственной недвижимости\n",
      "сыграть свадьбу\n"
     ]
    }
   ],
   "source": [
    "purposes_unique = df['purpose'].unique()\n",
    "purposes_unique.sort()\n",
    "\n",
    "for purpose in purposes_unique:\n",
    "    print(purpose)"
   ]
  },
  {
   "cell_type": "markdown",
   "id": "583b0b84-3b6b-404b-8a7a-60879bd5d58e",
   "metadata": {},
   "source": [
    "Выделим основные группы целей:\n",
    "\n",
    "- `получение образования`,\n",
    "- `операциии с недвижимостью`,\n",
    "- `операции с автомобилями`,\n",
    "- `проведение свадьбы`\n",
    "\n",
    "Создадим функцию определяющую абстрактную категорию цели `purpose`:"
   ]
  },
  {
   "cell_type": "code",
   "execution_count": 46,
   "id": "f715737a-63dc-44e2-a00e-b69bb11c0ee8",
   "metadata": {},
   "outputs": [],
   "source": [
    "def categorize_purpose(purpose: str) -> str:\n",
    "    if type(purpose) != str:\n",
    "        return None\n",
    "\n",
    "    if 'образов' in purpose:\n",
    "        return 'получение образования'\n",
    "    elif 'недвиж' in purpose or 'жиль' in purpose:\n",
    "        return 'операции с недвижимостью'\n",
    "    elif 'авто' in purpose:\n",
    "        return 'операции с автомобилями'\n",
    "    elif 'свад' in purpose:\n",
    "        return 'проведение свадьбы'\n",
    "    else:\n",
    "        return 'нет категории'"
   ]
  },
  {
   "cell_type": "markdown",
   "id": "d121ded7-c7a5-4934-9e6d-87cef275850c",
   "metadata": {},
   "source": [
    "Воспользуемся функцией и категоризируем все строки добавив столбец `purpose_category`:"
   ]
  },
  {
   "cell_type": "code",
   "execution_count": 47,
   "id": "42a731ce-7a5e-48ea-a191-a93833b20c10",
   "metadata": {},
   "outputs": [],
   "source": [
    "df['purpose_category'] = df['purpose'].apply(categorize_purpose)"
   ]
  },
  {
   "cell_type": "markdown",
   "id": "bf70830f-abd0-4ae6-8c76-f452093691f8",
   "metadata": {},
   "source": [
    "Выполним проверку:"
   ]
  },
  {
   "cell_type": "code",
   "execution_count": 48,
   "id": "b7022b6e-1cf2-4bb2-871e-03ee3e34254f",
   "metadata": {},
   "outputs": [
    {
     "data": {
      "text/html": [
       "<div>\n",
       "<style scoped>\n",
       "    .dataframe tbody tr th:only-of-type {\n",
       "        vertical-align: middle;\n",
       "    }\n",
       "\n",
       "    .dataframe tbody tr th {\n",
       "        vertical-align: top;\n",
       "    }\n",
       "\n",
       "    .dataframe thead th {\n",
       "        text-align: right;\n",
       "    }\n",
       "</style>\n",
       "<table border=\"1\" class=\"dataframe\">\n",
       "  <thead>\n",
       "    <tr style=\"text-align: right;\">\n",
       "      <th></th>\n",
       "      <th>children</th>\n",
       "      <th>days_employed</th>\n",
       "      <th>dob_years</th>\n",
       "      <th>education</th>\n",
       "      <th>education_id</th>\n",
       "      <th>family_status</th>\n",
       "      <th>family_status_id</th>\n",
       "      <th>gender</th>\n",
       "      <th>income_type</th>\n",
       "      <th>debt</th>\n",
       "      <th>total_income</th>\n",
       "      <th>purpose</th>\n",
       "      <th>total_income_category</th>\n",
       "      <th>purpose_category</th>\n",
       "    </tr>\n",
       "  </thead>\n",
       "  <tbody>\n",
       "    <tr>\n",
       "      <th>0</th>\n",
       "      <td>1</td>\n",
       "      <td>8437.673028</td>\n",
       "      <td>42</td>\n",
       "      <td>высшее</td>\n",
       "      <td>0</td>\n",
       "      <td>женат / замужем</td>\n",
       "      <td>0</td>\n",
       "      <td>F</td>\n",
       "      <td>сотрудник</td>\n",
       "      <td>0</td>\n",
       "      <td>253875</td>\n",
       "      <td>покупка жилья</td>\n",
       "      <td>B</td>\n",
       "      <td>операции с недвижимостью</td>\n",
       "    </tr>\n",
       "    <tr>\n",
       "      <th>1</th>\n",
       "      <td>1</td>\n",
       "      <td>4024.803754</td>\n",
       "      <td>36</td>\n",
       "      <td>среднее</td>\n",
       "      <td>1</td>\n",
       "      <td>женат / замужем</td>\n",
       "      <td>0</td>\n",
       "      <td>F</td>\n",
       "      <td>сотрудник</td>\n",
       "      <td>0</td>\n",
       "      <td>112080</td>\n",
       "      <td>приобретение автомобиля</td>\n",
       "      <td>C</td>\n",
       "      <td>операции с автомобилями</td>\n",
       "    </tr>\n",
       "    <tr>\n",
       "      <th>2</th>\n",
       "      <td>0</td>\n",
       "      <td>5623.422610</td>\n",
       "      <td>33</td>\n",
       "      <td>среднее</td>\n",
       "      <td>1</td>\n",
       "      <td>женат / замужем</td>\n",
       "      <td>0</td>\n",
       "      <td>M</td>\n",
       "      <td>сотрудник</td>\n",
       "      <td>0</td>\n",
       "      <td>145885</td>\n",
       "      <td>покупка жилья</td>\n",
       "      <td>C</td>\n",
       "      <td>операции с недвижимостью</td>\n",
       "    </tr>\n",
       "    <tr>\n",
       "      <th>3</th>\n",
       "      <td>3</td>\n",
       "      <td>4124.747207</td>\n",
       "      <td>32</td>\n",
       "      <td>среднее</td>\n",
       "      <td>1</td>\n",
       "      <td>женат / замужем</td>\n",
       "      <td>0</td>\n",
       "      <td>M</td>\n",
       "      <td>сотрудник</td>\n",
       "      <td>0</td>\n",
       "      <td>267628</td>\n",
       "      <td>дополнительное образование</td>\n",
       "      <td>B</td>\n",
       "      <td>получение образования</td>\n",
       "    </tr>\n",
       "    <tr>\n",
       "      <th>4</th>\n",
       "      <td>0</td>\n",
       "      <td>340266.072047</td>\n",
       "      <td>53</td>\n",
       "      <td>среднее</td>\n",
       "      <td>1</td>\n",
       "      <td>гражданский брак</td>\n",
       "      <td>1</td>\n",
       "      <td>F</td>\n",
       "      <td>пенсионер</td>\n",
       "      <td>0</td>\n",
       "      <td>158616</td>\n",
       "      <td>сыграть свадьбу</td>\n",
       "      <td>C</td>\n",
       "      <td>проведение свадьбы</td>\n",
       "    </tr>\n",
       "  </tbody>\n",
       "</table>\n",
       "</div>"
      ],
      "text/plain": [
       "   children  days_employed  dob_years education  education_id  \\\n",
       "0         1    8437.673028         42    высшее             0   \n",
       "1         1    4024.803754         36   среднее             1   \n",
       "2         0    5623.422610         33   среднее             1   \n",
       "3         3    4124.747207         32   среднее             1   \n",
       "4         0  340266.072047         53   среднее             1   \n",
       "\n",
       "      family_status  family_status_id gender income_type  debt  total_income  \\\n",
       "0   женат / замужем                 0      F   сотрудник     0        253875   \n",
       "1   женат / замужем                 0      F   сотрудник     0        112080   \n",
       "2   женат / замужем                 0      M   сотрудник     0        145885   \n",
       "3   женат / замужем                 0      M   сотрудник     0        267628   \n",
       "4  гражданский брак                 1      F   пенсионер     0        158616   \n",
       "\n",
       "                      purpose total_income_category          purpose_category  \n",
       "0               покупка жилья                     B  операции с недвижимостью  \n",
       "1     приобретение автомобиля                     C   операции с автомобилями  \n",
       "2               покупка жилья                     C  операции с недвижимостью  \n",
       "3  дополнительное образование                     B     получение образования  \n",
       "4             сыграть свадьбу                     C        проведение свадьбы  "
      ]
     },
     "execution_count": 48,
     "metadata": {},
     "output_type": "execute_result"
    }
   ],
   "source": [
    "df.head()"
   ]
  },
  {
   "cell_type": "markdown",
   "id": "33f889e4-a9ce-461b-a81c-5417b24f1288",
   "metadata": {},
   "source": [
    "<font color='red'>В целом исследование хорошее, но стоит обратить внимание на тот фак, что тобой не проведён анализ и аномалий по всем столбцам DataFrame. Для всестороннего анализа всех возможный отклонений, стоит проводить анализ всех столбцов, как бы утомительно это не было. Как показывает практика, именно такой подход, поможет обеспечить выявление всех аномалий в данных.</font>"
   ]
  },
  {
   "cell_type": "markdown",
   "id": "10848711-0b4c-4841-9fe4-1c20d9bb2906",
   "metadata": {},
   "source": [
    "## 3. Исследования"
   ]
  },
  {
   "cell_type": "markdown",
   "id": "b0c4d60b-7c91-4530-9b0c-75879ff9d38d",
   "metadata": {},
   "source": [
    "### 3.1. Есть ли зависимость между количеством детей и возвратом кредита в срок?"
   ]
  },
  {
   "cell_type": "markdown",
   "id": "58c6498b-6cee-4c1f-899b-9180d1db968e",
   "metadata": {},
   "source": [
    "Сгруппируем данные по количеству детей `children`, а также посчитаем общее количество заёмщиков, количество просроченных кредитов и отношение второго к первому:"
   ]
  },
  {
   "cell_type": "code",
   "execution_count": 49,
   "id": "9dd4ec24-68cc-4d16-93a3-31fc02f97fd5",
   "metadata": {},
   "outputs": [
    {
     "data": {
      "text/html": [
       "<style  type=\"text/css\" >\n",
       "</style><table id=\"T_23920_\" ><thead>    <tr>        <th class=\"blank level0\" ></th>        <th class=\"col_heading level0 col0\" >count</th>        <th class=\"col_heading level0 col1\" >sum</th>        <th class=\"col_heading level0 col2\" >mean</th>    </tr>    <tr>        <th class=\"blank level1\" ></th>        <th class=\"col_heading level1 col0\" >debt</th>        <th class=\"col_heading level1 col1\" >debt</th>        <th class=\"col_heading level1 col2\" >debt</th>    </tr>    <tr>        <th class=\"index_name level0\" >children</th>        <th class=\"blank\" ></th>        <th class=\"blank\" ></th>        <th class=\"blank\" ></th>    </tr></thead><tbody>\n",
       "                <tr>\n",
       "                        <th id=\"T_23920_level0_row0\" class=\"row_heading level0 row0\" >20</th>\n",
       "                        <td id=\"T_23920_row0_col0\" class=\"data row0 col0\" >76</td>\n",
       "                        <td id=\"T_23920_row0_col1\" class=\"data row0 col1\" >8</td>\n",
       "                        <td id=\"T_23920_row0_col2\" class=\"data row0 col2\" >10.53%</td>\n",
       "            </tr>\n",
       "            <tr>\n",
       "                        <th id=\"T_23920_level0_row1\" class=\"row_heading level0 row1\" >4</th>\n",
       "                        <td id=\"T_23920_row1_col0\" class=\"data row1 col0\" >41</td>\n",
       "                        <td id=\"T_23920_row1_col1\" class=\"data row1 col1\" >4</td>\n",
       "                        <td id=\"T_23920_row1_col2\" class=\"data row1 col2\" >9.76%</td>\n",
       "            </tr>\n",
       "            <tr>\n",
       "                        <th id=\"T_23920_level0_row2\" class=\"row_heading level0 row2\" >2</th>\n",
       "                        <td id=\"T_23920_row2_col0\" class=\"data row2 col0\" >2052</td>\n",
       "                        <td id=\"T_23920_row2_col1\" class=\"data row2 col1\" >194</td>\n",
       "                        <td id=\"T_23920_row2_col2\" class=\"data row2 col2\" >9.45%</td>\n",
       "            </tr>\n",
       "            <tr>\n",
       "                        <th id=\"T_23920_level0_row3\" class=\"row_heading level0 row3\" >1</th>\n",
       "                        <td id=\"T_23920_row3_col0\" class=\"data row3 col0\" >4855</td>\n",
       "                        <td id=\"T_23920_row3_col1\" class=\"data row3 col1\" >445</td>\n",
       "                        <td id=\"T_23920_row3_col2\" class=\"data row3 col2\" >9.17%</td>\n",
       "            </tr>\n",
       "            <tr>\n",
       "                        <th id=\"T_23920_level0_row4\" class=\"row_heading level0 row4\" >3</th>\n",
       "                        <td id=\"T_23920_row4_col0\" class=\"data row4 col0\" >330</td>\n",
       "                        <td id=\"T_23920_row4_col1\" class=\"data row4 col1\" >27</td>\n",
       "                        <td id=\"T_23920_row4_col2\" class=\"data row4 col2\" >8.18%</td>\n",
       "            </tr>\n",
       "            <tr>\n",
       "                        <th id=\"T_23920_level0_row5\" class=\"row_heading level0 row5\" >0</th>\n",
       "                        <td id=\"T_23920_row5_col0\" class=\"data row5 col0\" >14091</td>\n",
       "                        <td id=\"T_23920_row5_col1\" class=\"data row5 col1\" >1063</td>\n",
       "                        <td id=\"T_23920_row5_col2\" class=\"data row5 col2\" >7.54%</td>\n",
       "            </tr>\n",
       "            <tr>\n",
       "                        <th id=\"T_23920_level0_row6\" class=\"row_heading level0 row6\" >5</th>\n",
       "                        <td id=\"T_23920_row6_col0\" class=\"data row6 col0\" >9</td>\n",
       "                        <td id=\"T_23920_row6_col1\" class=\"data row6 col1\" >0</td>\n",
       "                        <td id=\"T_23920_row6_col2\" class=\"data row6 col2\" >0.00%</td>\n",
       "            </tr>\n",
       "    </tbody></table>"
      ],
      "text/plain": [
       "<pandas.io.formats.style.Styler at 0x710724965e80>"
      ]
     },
     "execution_count": 49,
     "metadata": {},
     "output_type": "execute_result"
    }
   ],
   "source": [
    "df.pivot_table(index = 'children', values = 'debt', aggfunc = ['count', 'sum', 'mean']) \\\n",
    "    .sort_values(by = ('mean', 'debt'), ascending = False) \\\n",
    "    .style.format({('mean', 'debt'): '{:.2%}'})"
   ]
  },
  {
   "cell_type": "markdown",
   "id": "25be1956-4dbd-4d64-8c33-425522818336",
   "metadata": {},
   "source": [
    "**Вывод:** \n",
    "\n",
    "1. Заёмщиков с 4-мя детьми, являются самыми `не надежними` по платёжной дисциплине (9,8%).\n",
    "2. Самыми `надёжными` по возврату кредитов являются заёмщики не имеющие детей (7,5%).\n",
    "\n",
    "Обращает на себя внимание тот факт, что у заёмщиков, имеющих 5 детей, просрочка отсутсвтует. Однако, с учётом доли просрочек заёмщиков с 4-мя детьми, будет ошибочным полагать, что у заёмщиков с 5-ю детьми доля просрочек будет сильно отличаться. Предполагаем, что такие показатели у заёмщиков с 5 детьми, обусловлены недостаточным количеством данных о выданных кредитах."
   ]
  },
  {
   "cell_type": "markdown",
   "id": "72e95fb1-cc9e-478f-99e3-d6ce07d80403",
   "metadata": {},
   "source": [
    "### 3.2. Есть ли зависимость между семейным положение и возвратом кредита в срок?"
   ]
  },
  {
   "cell_type": "markdown",
   "id": "05ccfa73-c4b3-4cac-93c1-5aea0a69121d",
   "metadata": {},
   "source": [
    "Сгруппируем данные по семейному положению `family_status`, а также посчитаем общее количество заёмщиков, количество просроченных кредитов и отношение второго к первому:"
   ]
  },
  {
   "cell_type": "code",
   "execution_count": 50,
   "id": "36d79b25-6a13-46f4-88f3-0b42290cdff5",
   "metadata": {},
   "outputs": [
    {
     "data": {
      "text/html": [
       "<style  type=\"text/css\" >\n",
       "</style><table id=\"T_56faf_\" ><thead>    <tr>        <th class=\"blank level0\" ></th>        <th class=\"col_heading level0 col0\" >count</th>        <th class=\"col_heading level0 col1\" >sum</th>        <th class=\"col_heading level0 col2\" >mean</th>    </tr>    <tr>        <th class=\"blank level1\" ></th>        <th class=\"col_heading level1 col0\" >debt</th>        <th class=\"col_heading level1 col1\" >debt</th>        <th class=\"col_heading level1 col2\" >debt</th>    </tr>    <tr>        <th class=\"index_name level0\" >family_status</th>        <th class=\"blank\" ></th>        <th class=\"blank\" ></th>        <th class=\"blank\" ></th>    </tr></thead><tbody>\n",
       "                <tr>\n",
       "                        <th id=\"T_56faf_level0_row0\" class=\"row_heading level0 row0\" >Не женат / не замужем</th>\n",
       "                        <td id=\"T_56faf_row0_col0\" class=\"data row0 col0\" >2810</td>\n",
       "                        <td id=\"T_56faf_row0_col1\" class=\"data row0 col1\" >274</td>\n",
       "                        <td id=\"T_56faf_row0_col2\" class=\"data row0 col2\" >9.75%</td>\n",
       "            </tr>\n",
       "            <tr>\n",
       "                        <th id=\"T_56faf_level0_row1\" class=\"row_heading level0 row1\" >гражданский брак</th>\n",
       "                        <td id=\"T_56faf_row1_col0\" class=\"data row1 col0\" >4151</td>\n",
       "                        <td id=\"T_56faf_row1_col1\" class=\"data row1 col1\" >388</td>\n",
       "                        <td id=\"T_56faf_row1_col2\" class=\"data row1 col2\" >9.35%</td>\n",
       "            </tr>\n",
       "            <tr>\n",
       "                        <th id=\"T_56faf_level0_row2\" class=\"row_heading level0 row2\" >женат / замужем</th>\n",
       "                        <td id=\"T_56faf_row2_col0\" class=\"data row2 col0\" >12339</td>\n",
       "                        <td id=\"T_56faf_row2_col1\" class=\"data row2 col1\" >931</td>\n",
       "                        <td id=\"T_56faf_row2_col2\" class=\"data row2 col2\" >7.55%</td>\n",
       "            </tr>\n",
       "            <tr>\n",
       "                        <th id=\"T_56faf_level0_row3\" class=\"row_heading level0 row3\" >в разводе</th>\n",
       "                        <td id=\"T_56faf_row3_col0\" class=\"data row3 col0\" >1195</td>\n",
       "                        <td id=\"T_56faf_row3_col1\" class=\"data row3 col1\" >85</td>\n",
       "                        <td id=\"T_56faf_row3_col2\" class=\"data row3 col2\" >7.11%</td>\n",
       "            </tr>\n",
       "            <tr>\n",
       "                        <th id=\"T_56faf_level0_row4\" class=\"row_heading level0 row4\" >вдовец / вдова</th>\n",
       "                        <td id=\"T_56faf_row4_col0\" class=\"data row4 col0\" >959</td>\n",
       "                        <td id=\"T_56faf_row4_col1\" class=\"data row4 col1\" >63</td>\n",
       "                        <td id=\"T_56faf_row4_col2\" class=\"data row4 col2\" >6.57%</td>\n",
       "            </tr>\n",
       "    </tbody></table>"
      ],
      "text/plain": [
       "<pandas.io.formats.style.Styler at 0x7107259c4760>"
      ]
     },
     "execution_count": 50,
     "metadata": {},
     "output_type": "execute_result"
    }
   ],
   "source": [
    "df.pivot_table(index = 'family_status', values = 'debt', aggfunc = ['count', 'sum', 'mean']) \\\n",
    "    .sort_values(by = ('mean', 'debt'), ascending = False) \\\n",
    "    .style.format({('mean', 'debt'): '{:.2%}'})"
   ]
  },
  {
   "cell_type": "markdown",
   "id": "c1a1b43b-0678-4e07-847d-91e657ec2aea",
   "metadata": {},
   "source": [
    "**Вывод:** \n",
    "1. Овдовевшие заёмщики, чаще остальных категорий (6,6%), своевременно погашают кредиты.\n",
    "2. Заёмщики, состоящие в `Гражданском браке`, являются самыми не надёжными по возврату заёмных средств (9,3%).\n",
    "\n",
    "Обращает на себя внимание тот факт, что в предыдущем исследовании, самыми надёжными являлись заёмщики не имеющие детей. С учётом дополнительно полученных сведений, формируется вывод о том, что надёжный заёмщик не имеет детей и состоит или состоял в браке."
   ]
  },
  {
   "cell_type": "markdown",
   "id": "273c2335-a727-4eb0-9fc1-f9c7187e0dd9",
   "metadata": {},
   "source": [
    "### 3.3. Есть ли зависимость между уровнем дохода и возвратом кредита в срок?"
   ]
  },
  {
   "cell_type": "markdown",
   "id": "9b7dd8a1-4399-46c9-af9b-b4aa08199754",
   "metadata": {},
   "source": [
    "Сгруппируем данные по категории уровня дохода `total_income_category`, а также посчитаем общее количество заёмщиков, количество просроченных кредитов и отношение второго к первому:"
   ]
  },
  {
   "cell_type": "code",
   "execution_count": 51,
   "id": "37809d49-f90f-4ea6-8be1-3385d3700439",
   "metadata": {},
   "outputs": [
    {
     "data": {
      "text/html": [
       "<style  type=\"text/css\" >\n",
       "</style><table id=\"T_336fb_\" ><thead>    <tr>        <th class=\"blank level0\" ></th>        <th class=\"col_heading level0 col0\" >count</th>        <th class=\"col_heading level0 col1\" >sum</th>        <th class=\"col_heading level0 col2\" >mean</th>    </tr>    <tr>        <th class=\"blank level1\" ></th>        <th class=\"col_heading level1 col0\" >debt</th>        <th class=\"col_heading level1 col1\" >debt</th>        <th class=\"col_heading level1 col2\" >debt</th>    </tr>    <tr>        <th class=\"index_name level0\" >total_income_category</th>        <th class=\"blank\" ></th>        <th class=\"blank\" ></th>        <th class=\"blank\" ></th>    </tr></thead><tbody>\n",
       "                <tr>\n",
       "                        <th id=\"T_336fb_level0_row0\" class=\"row_heading level0 row0\" >E</th>\n",
       "                        <td id=\"T_336fb_row0_col0\" class=\"data row0 col0\" >22</td>\n",
       "                        <td id=\"T_336fb_row0_col1\" class=\"data row0 col1\" >2</td>\n",
       "                        <td id=\"T_336fb_row0_col2\" class=\"data row0 col2\" >9.09%</td>\n",
       "            </tr>\n",
       "            <tr>\n",
       "                        <th id=\"T_336fb_level0_row1\" class=\"row_heading level0 row1\" >C</th>\n",
       "                        <td id=\"T_336fb_row1_col0\" class=\"data row1 col0\" >16015</td>\n",
       "                        <td id=\"T_336fb_row1_col1\" class=\"data row1 col1\" >1360</td>\n",
       "                        <td id=\"T_336fb_row1_col2\" class=\"data row1 col2\" >8.49%</td>\n",
       "            </tr>\n",
       "            <tr>\n",
       "                        <th id=\"T_336fb_level0_row2\" class=\"row_heading level0 row2\" >A</th>\n",
       "                        <td id=\"T_336fb_row2_col0\" class=\"data row2 col0\" >25</td>\n",
       "                        <td id=\"T_336fb_row2_col1\" class=\"data row2 col1\" >2</td>\n",
       "                        <td id=\"T_336fb_row2_col2\" class=\"data row2 col2\" >8.00%</td>\n",
       "            </tr>\n",
       "            <tr>\n",
       "                        <th id=\"T_336fb_level0_row3\" class=\"row_heading level0 row3\" >B</th>\n",
       "                        <td id=\"T_336fb_row3_col0\" class=\"data row3 col0\" >5042</td>\n",
       "                        <td id=\"T_336fb_row3_col1\" class=\"data row3 col1\" >356</td>\n",
       "                        <td id=\"T_336fb_row3_col2\" class=\"data row3 col2\" >7.06%</td>\n",
       "            </tr>\n",
       "            <tr>\n",
       "                        <th id=\"T_336fb_level0_row4\" class=\"row_heading level0 row4\" >D</th>\n",
       "                        <td id=\"T_336fb_row4_col0\" class=\"data row4 col0\" >350</td>\n",
       "                        <td id=\"T_336fb_row4_col1\" class=\"data row4 col1\" >21</td>\n",
       "                        <td id=\"T_336fb_row4_col2\" class=\"data row4 col2\" >6.00%</td>\n",
       "            </tr>\n",
       "    </tbody></table>"
      ],
      "text/plain": [
       "<pandas.io.formats.style.Styler at 0x7107249776a0>"
      ]
     },
     "execution_count": 51,
     "metadata": {},
     "output_type": "execute_result"
    }
   ],
   "source": [
    "df.pivot_table(index = 'total_income_category', values = 'debt', aggfunc = ['count', 'sum', 'mean']) \\\n",
    "    .sort_values(by = ('mean', 'debt'), ascending = False) \\\n",
    "    .style.format({('mean', 'debt') : '{:.2%}'})"
   ]
  },
  {
   "cell_type": "markdown",
   "id": "b1c96cf4-d446-4d58-9fb8-23b652b32aca",
   "metadata": {},
   "source": [
    "**Вывод:** \n",
    "- Самая `высокая доля просрочек` у заёмщиков категории \"E\", с доходом до 30000 рублей\n",
    "- Самая `низкая доля просрочек` у заёмщиков категории \"D\", с доходом от 30001 до 50000 рублей\n",
    "\n",
    "Предположение о наличии зависимости возвратов кредита от уровня дохода заёмщиков, не подтверждается. Заёмщики с уровнем дохода от 50001 до 200000 склонны к неоплате задолженности так же, как и заёмщики с уровнем дохода до 30000 рублей"
   ]
  },
  {
   "cell_type": "markdown",
   "id": "a413b60d-8466-4830-aace-e924d0c93322",
   "metadata": {},
   "source": [
    "<div class=\"alert alert-block alert-success\"> <b>Дополнительные выводы:</b>\n",
    "<ol>\n",
    "    <li>Заёмщики относящиеся категории \"B\" и \"C\" и имеющие доход от 50 т.р. до 1 млн., являются самыми активными участниками рынка кредитования и составляют основную долю заёщиков банка</li>\n",
    "    <li>Заёмщикам относящимся к категории \"C\" выдано в 3 раза больше кредитов чем относящимся к категории \"B\", при этом, количество просроченных кредитов выше только на 20,3%. Это может указывать на ранее просчитанные риски Банка и принятые решения о расширении Банка своего влияние на конкретном сегменте рынке.</li>\n",
    "        <li>Кредитные продукты Банка массово ориентированы на заёмщиков с доходами от 50 т. до 1 млн. и отсутсвтует достаточное количество банковских продуктов ориентированных на более состоятельных заёмщиков <i>(категория \"A\" доля выданных кредитов <b>менее 0,1%</b>)</i>, тем самым упускают экономическую выгоду от привлечения новых состоятельных клиентов.</li>\n",
    "</ol>\n",
    "</div>"
   ]
  },
  {
   "cell_type": "markdown",
   "id": "fa3d7666-6968-48ce-8e13-ecc845010fdf",
   "metadata": {},
   "source": [
    "### 3.4. Каким образом цель влияет на возврат кредита в срок?"
   ]
  },
  {
   "cell_type": "markdown",
   "id": "b097fc20-bb75-41a6-b5f0-2d4bee788b08",
   "metadata": {},
   "source": [
    "Сгруппируем данные по цели `purpose_category`, а также посчитаем общее количество заёмщиков, количество просроченных кредитов и отношение второго к первому:"
   ]
  },
  {
   "cell_type": "code",
   "execution_count": 52,
   "id": "e02a67da-1350-4cca-b7d3-b2abe9776c2b",
   "metadata": {},
   "outputs": [
    {
     "data": {
      "text/html": [
       "<style  type=\"text/css\" >\n",
       "</style><table id=\"T_a392a_\" ><thead>    <tr>        <th class=\"blank level0\" ></th>        <th class=\"col_heading level0 col0\" >count</th>        <th class=\"col_heading level0 col1\" >sum</th>        <th class=\"col_heading level0 col2\" >mean</th>    </tr>    <tr>        <th class=\"blank level1\" ></th>        <th class=\"col_heading level1 col0\" >debt</th>        <th class=\"col_heading level1 col1\" >debt</th>        <th class=\"col_heading level1 col2\" >debt</th>    </tr>    <tr>        <th class=\"index_name level0\" >purpose_category</th>        <th class=\"blank\" ></th>        <th class=\"blank\" ></th>        <th class=\"blank\" ></th>    </tr></thead><tbody>\n",
       "                <tr>\n",
       "                        <th id=\"T_a392a_level0_row0\" class=\"row_heading level0 row0\" >операции с автомобилями</th>\n",
       "                        <td id=\"T_a392a_row0_col0\" class=\"data row0 col0\" >4306</td>\n",
       "                        <td id=\"T_a392a_row0_col1\" class=\"data row0 col1\" >403</td>\n",
       "                        <td id=\"T_a392a_row0_col2\" class=\"data row0 col2\" >9.36%</td>\n",
       "            </tr>\n",
       "            <tr>\n",
       "                        <th id=\"T_a392a_level0_row1\" class=\"row_heading level0 row1\" >получение образования</th>\n",
       "                        <td id=\"T_a392a_row1_col0\" class=\"data row1 col0\" >4013</td>\n",
       "                        <td id=\"T_a392a_row1_col1\" class=\"data row1 col1\" >370</td>\n",
       "                        <td id=\"T_a392a_row1_col2\" class=\"data row1 col2\" >9.22%</td>\n",
       "            </tr>\n",
       "            <tr>\n",
       "                        <th id=\"T_a392a_level0_row2\" class=\"row_heading level0 row2\" >проведение свадьбы</th>\n",
       "                        <td id=\"T_a392a_row2_col0\" class=\"data row2 col0\" >2324</td>\n",
       "                        <td id=\"T_a392a_row2_col1\" class=\"data row2 col1\" >186</td>\n",
       "                        <td id=\"T_a392a_row2_col2\" class=\"data row2 col2\" >8.00%</td>\n",
       "            </tr>\n",
       "            <tr>\n",
       "                        <th id=\"T_a392a_level0_row3\" class=\"row_heading level0 row3\" >операции с недвижимостью</th>\n",
       "                        <td id=\"T_a392a_row3_col0\" class=\"data row3 col0\" >10811</td>\n",
       "                        <td id=\"T_a392a_row3_col1\" class=\"data row3 col1\" >782</td>\n",
       "                        <td id=\"T_a392a_row3_col2\" class=\"data row3 col2\" >7.23%</td>\n",
       "            </tr>\n",
       "    </tbody></table>"
      ],
      "text/plain": [
       "<pandas.io.formats.style.Styler at 0x7107258fd310>"
      ]
     },
     "execution_count": 52,
     "metadata": {},
     "output_type": "execute_result"
    }
   ],
   "source": [
    "df.pivot_table(index = 'purpose_category', values = 'debt', aggfunc = ['count', 'sum', 'mean']) \\\n",
    "    .sort_values(by = ('mean', 'debt'), ascending = False) \\\n",
    "    .style.format({('mean', 'debt') : '{:.2%}'})"
   ]
  },
  {
   "cell_type": "markdown",
   "id": "0c634c3d-53d6-41dc-be1d-8d8823b90875",
   "metadata": {},
   "source": [
    "**Вывод:** \n",
    "- Наиболее подвержено риску не возврата средств, кредитование на цели приобретения автомобиля (9,3%);\n",
    "- Меньше всего рисков по не возврата средств, приходится на кредитование сделок с недвижимостью (7,3%);\n",
    "\n",
    "По расчётам можно сделать вывод, что самыми проблемными выглядят кредиты на `операции с автомобилями` и `получение образования`."
   ]
  },
  {
   "cell_type": "markdown",
   "id": "df13ab86-7aed-4637-a5b9-21b2f6802862",
   "metadata": {},
   "source": [
    "### 3.5. Общий вывод"
   ]
  },
  {
   "cell_type": "markdown",
   "id": "84e52171-474f-4691-8e84-db4d62d30571",
   "metadata": {},
   "source": [
    "**В рамках реализации исследования были проведены следующие работы:**\n",
    "\n",
    "- Произведён анализ полученных данных на предмет их целостности и возможности применения в исследовании.\n",
    "\n",
    "- Произведена работа по нормализации информации (устранение выявленных аномалий, отклонений и дубликаты в данных, которые оказывали прямое влияние на качество и точность проводимого исследования).\n",
    "\n",
    "- Произведено обогащение данными, необходимыми для повышения качества исследования.\n",
    "\n",
    "- Проведён анализ влияющих факторов <i>(количество детей; семейное положение; уровень дохода и цели кредита)</i> на возврат кредита в срок.\n",
    "\n",
    "- Произведено формирование качественных и количественных выводов исследования."
   ]
  },
  {
   "cell_type": "markdown",
   "id": "953f742e-6b1c-4bde-977f-acd151c2bc34",
   "metadata": {},
   "source": [
    "**Предположительные причины появления пропусков в данных:**\n",
    "\n",
    "- Столбцы `days_employed` и `total_income` - имеют пустые значения, более 10% выборки данных, с учётом факта отсутствия данных в одних и тех же строках, данные пропуски могли появиться в следствии добавления в базу данных двух новых столбцов `days_employed` и `total_income`, либо при миграции данных между базами данных, либо в необязательности указания данных при первичном вводе. \n",
    "- `days_employed` - отрицательные значения в количественной переменной, является следствием неправильной настройки миграции данных.\n",
    "- `children` - имеет отрицательное значение и значение 20 детей. Является ошибкой при вводе данных в систему.\n",
    "- `education` - разный регистр заполнения категорийной переменной. Является ошибкой при вводе данных в систему.\\\n",
    "- Случайные повреждения данных молодыми сотрудниками компании, не имеющих достаточного опыта работы с БД и запросами к базе и тем не менее допущенными к \"боевой\" базе без должного опыта.\n",
    "\n",
    "Для корректности ввода первичных данных в систему, рекомендуется ввести проверку вводимых данных"
   ]
  },
  {
   "cell_type": "markdown",
   "id": "a990e60d-f771-4b4c-856f-a144829f8dfe",
   "metadata": {},
   "source": [
    "**Целесообразность использование медианного значения:** медианное значение выбрано для использования, т.к. эффективнее отрабатывает аномальные отклонения верхних и нижних значений выборки данных, по сравнению со средним значением."
   ]
  },
  {
   "cell_type": "markdown",
   "id": "d3f745b2-e3f7-4683-bb0d-ec647e449324",
   "metadata": {},
   "source": [
    "**Вывод:**\n",
    "\n",
    "Наименее рискованные заёмщики для банка, являются клиенты, которые которые соответствуют следующим критериям:\n",
    "- Клиент обращается в банк за кредитом на приобретения недвижимости;\n",
    "- У клиента уровень дохода относится к категории \"D\", от 30 т.р. до 50 т.р.;\n",
    "- Состоит в законном браке или является вдовой/вдовцом и не имеет детей. "
   ]
  }
 ],
 "metadata": {
  "kernelspec": {
   "display_name": "Python 3 (ipykernel)",
   "language": "python",
   "name": "python3"
  },
  "language_info": {
   "codemirror_mode": {
    "name": "ipython",
    "version": 3
   },
   "file_extension": ".py",
   "mimetype": "text/x-python",
   "name": "python",
   "nbconvert_exporter": "python",
   "pygments_lexer": "ipython3",
   "version": "3.9.18"
  }
 },
 "nbformat": 4,
 "nbformat_minor": 5
}
